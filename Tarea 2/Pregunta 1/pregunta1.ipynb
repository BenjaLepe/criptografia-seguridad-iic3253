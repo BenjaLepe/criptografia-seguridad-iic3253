{
 "cells": [
  {
   "cell_type": "code",
   "execution_count": 1,
   "metadata": {},
   "outputs": [],
   "source": [
    "from typing import Callable\n",
    "from Crypto.Cipher import AES"
   ]
  },
  {
   "cell_type": "code",
   "execution_count": 2,
   "metadata": {},
   "outputs": [],
   "source": [
    "def davies_meyer(\n",
    "    encrypt : Callable[[bytearray , bytearray], bytearray] ,\n",
    "    l_key: int ,\n",
    "    l_message: int\n",
    ") -> Callable[[bytearray], bytearray]:\n",
    "    \"\"\"\n",
    "    Arguments :\n",
    "        encrypt : an encryption function\n",
    "        l_key : length in bytes of the keys for encrypt\n",
    "        l_message : length in bytes of the messages for encrypt\n",
    "    Returns :\n",
    "        A compression function from messages of length l_key + l_message to\n",
    "        messages of length l_message , defined by using the Davies - Meyer\n",
    "        construction\n",
    "    \"\"\"\n",
    "    def compress(message: bytearray) -> bytearray:\n",
    "        \"\"\"\n",
    "        Arguments :\n",
    "            message : a message of length l_key + l_message\n",
    "        Returns :\n",
    "            A message of length l_message\n",
    "        \"\"\"\n",
    "        # Get the key by removing the last l_message bytes\n",
    "        key = message[:l_key]\n",
    "        # Get the message by removing the first l_key bytes\n",
    "        message = message[l_key:]\n",
    "        # Encrypt the message with the key XOR the key\n",
    "        return bytearray(a ^ b for (a, b) in zip(encrypt(key, message), message))\n",
    "    return compress\n"
   ]
  },
  {
   "cell_type": "code",
   "execution_count": 3,
   "metadata": {},
   "outputs": [],
   "source": [
    "def pad(message: bytearray, l_block: int) -> bytearray:\n",
    "    \"\"\"\n",
    "    Arguments :\n",
    "        message : message to be padded\n",
    "        l_block : length in bytes of the block\n",
    "    Returns :\n",
    "        extension of message that includes the length of message\n",
    "        (in bytes ) in its last block\n",
    "    \"\"\"\n",
    "    mod = len(message) % l_block\n",
    "    if mod == 0:\n",
    "        return message + len(message).to_bytes(l_block, \"big\")\n",
    "    else:\n",
    "        return message + (1 * (256 ** (l_block - mod - 1))).to_bytes(l_block - mod, \"big\") + len(message).to_bytes(l_block, \"big\")\n",
    "    return message\n"
   ]
  },
  {
   "cell_type": "code",
   "execution_count": 4,
   "metadata": {},
   "outputs": [],
   "source": [
    "def merkle_damgard(\n",
    "    IV: bytearray, comp: Callable[[bytearray], bytearray], l_block: int\n",
    ") -> Callable[[bytearray], bytearray]:\n",
    "    \"\"\"\n",
    "    Arguments :\n",
    "        IV: initialization vector for a hash function\n",
    "        comp : compression function to be used in the Merkle - Damgard\n",
    "        construction\n",
    "        l_block : length in bytes of the blocks to be used in the Merkle - Damgard\n",
    "        construction\n",
    "    Returns :\n",
    "        A hash function for messages of arbitrary length , defined by using\n",
    "        the Merkle - Damgard construction\n",
    "    \"\"\"\n",
    "    def hash(message: bytearray) -> bytearray:\n",
    "        \"\"\"\n",
    "        Arguments :\n",
    "            message : a message of arbitrary length\n",
    "        Returns :\n",
    "            A hash of the message\n",
    "        \"\"\"\n",
    "        message = pad(message, l_block)\n",
    "        h = IV\n",
    "        for i in range(0, len(message), l_block):\n",
    "            h = comp(message[i : i + l_block] + h)\n",
    "        return h\n",
    "    return hash"
   ]
  },
  {
   "cell_type": "code",
   "execution_count": 5,
   "metadata": {},
   "outputs": [],
   "source": [
    "def _AES_128(key: bytearray, message: bytearray) -> bytearray:\n",
    "    a = AES.new(key, AES.MODE_ECB)\n",
    "    return bytearray(a.encrypt(message))"
   ]
  },
  {
   "cell_type": "code",
   "execution_count": null,
   "metadata": {},
   "outputs": [],
   "source": [
    "if __name__ == \"__main__\":\n",
    "    compresion = davies_meyer(_AES_128, 16, 16)\n",
    "    hash = merkle_damgard(bytearray(b'1234567890123456'), compresion, 16)\n",
    "\n",
    "    s1 = bytearray(b'Este es un mensaje de prueba para la tarea 2')\n",
    "    s2 = bytearray(b'Este es un mensaje de Prueba para la tarea 2')\n",
    "    s3 = bytearray(b'Un mensaje corto')\n",
    "    s4 = bytearray(b'')\n",
    "\n",
    "    h1 = hash(s1)\n",
    "    h2 = hash(s2)\n",
    "    h3 = hash(s3)\n",
    "    h4 = hash(s4)\n",
    "\n",
    "    assert h1 == bytearray(b'\\xe9\\xe8\\xac\\x12\\\\\\xf2\\xc8\\x16\\xceOV\\xc5Y.T\\xea')\n",
    "    assert h2 == bytearray(b'\\xb6\\xfb\\xc6a\\x12\\xae\\x95\\x1f\\xda\\xc5\\x13\\xde\\x06|Q\\x96')\n",
    "    assert h3 == bytearray(b'\\xc5\\xec\\xcdd\\xa4(R*\\xf0L*QtL\\xda\\x81')\n",
    "    assert h4 == bytearray(b'p\\xca \\xd8\\x9c\\xeb\\xe6\\xb1\\xce\\xcf\\x03\\xb2\\x9e\\x93\\x19\\xbc')"
   ]
  }
 ],
 "metadata": {
  "interpreter": {
   "hash": "13f0cb0a81c3b5d98267edb52c8df5ab397f1e76f483578498ff8d8f6d5d2130"
  },
  "kernelspec": {
   "display_name": "Python 3.9.7 64-bit",
   "language": "python",
   "name": "python3"
  },
  "language_info": {
   "codemirror_mode": {
    "name": "ipython",
    "version": 3
   },
   "file_extension": ".py",
   "mimetype": "text/x-python",
   "name": "python",
   "nbconvert_exporter": "python",
   "pygments_lexer": "ipython3",
   "version": "3.9.7"
  },
  "orig_nbformat": 4
 },
 "nbformat": 4,
 "nbformat_minor": 2
}
