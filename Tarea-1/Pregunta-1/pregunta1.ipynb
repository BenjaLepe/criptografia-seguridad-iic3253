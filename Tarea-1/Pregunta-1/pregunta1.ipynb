{
  "cells": [
    {
      "cell_type": "code",
      "execution_count": 1,
      "metadata": {
        "id": "_m160ydskn5Q"
      },
      "outputs": [],
      "source": [
        "import math\n",
        "import os\n",
        "from typing import List, Dict, Optional, Callable"
      ]
    },
    {
      "cell_type": "code",
      "execution_count": 2,
      "metadata": {
        "id": "xPLe07U3GgdY"
      },
      "outputs": [],
      "source": [
        "freq = {\n",
        "    'B': 0.015, 'A': 0.082, 'C': 0.027, 'D': 0.047, 'E': 0.13, 'F': 0.022, 'G': 0.02,\n",
        "    'H': 0.062, 'I': 0.069, 'J': 0.0016, 'K': 0.0081, 'L': 0.04, 'M': 0.027, 'N': 0.067,\n",
        "    'O': 0.078, 'P': 0.019, 'Q': 0.0011, 'R': 0.059, 'S': 0.062, 'T': 0.096,\n",
        "    'U': 0.027, 'V': 0.0097, 'W': 0.024, 'X': 0.0015, 'Y': 0.02, 'Z': 0.00078\n",
        "}"
      ]
    },
    {
      "cell_type": "code",
      "execution_count": 3,
      "metadata": {
        "id": "bvmPDLdmjBLZ"
      },
      "outputs": [],
      "source": [
        "def decipher_with_one_key(ciphertext: str, key: str, alphabet: dict, inverse_alphabet: dict):\n",
        "  original_text = \"\"\n",
        "  for idx, char in enumerate(ciphertext):\n",
        "    original_text += inverse_alphabet[\n",
        "      (alphabet[char] - alphabet[key[idx % len(key)]]) % len(alphabet)\n",
        "    ]\n",
        "  return original_text\n",
        "  "
      ]
    },
    {
      "cell_type": "code",
      "execution_count": 11,
      "metadata": {
        "id": "qle-V-GnkqwU"
      },
      "outputs": [],
      "source": [
        "def break_rp(\n",
        "    ciphertext: str,\n",
        "    frequencies: Dict[str, float],\n",
        "    distance: Callable[[str, Dict[str, float]], float],\n",
        ") -> str:\n",
        "    \"\"\"\n",
        "    Arguments :\n",
        "        ciphertext : An abritrary string representing the\n",
        "                     encrypted version of a plaintext .\n",
        "        frequencies : A dictionary representing a character\n",
        "                      frequency over the alphabet .\n",
        "        distance : A function indicating how distant is a string\n",
        "                   from following a character frequency\n",
        "    Returns :\n",
        "        key : A guess of the key used to encrypt the ciphertext , assuming\n",
        "              that the plaintext message was written in a language in which\n",
        "              letters distribute according to frequencies.\n",
        "    \"\"\"\n",
        "    # Initialize alphabet to get indexes and values\n",
        "    alphabet = {char: idx  for idx, char in enumerate(sorted(frequencies.keys()))}\n",
        "    inverse_alphabet = {idx: char  for idx, char in enumerate(sorted(frequencies.keys()))}\n",
        "\n",
        "    # Key lenght\n",
        "    max_key_lenght = math.floor(len(ciphertext)/50)\n",
        "    # Initialize min distance\n",
        "    min_dist = 1000\n",
        "    # Initialize best key\n",
        "    best_key = \"\"\n",
        "    # Iterate over every key lenght\n",
        "    for key_lenght in range(1, max_key_lenght + 1):\n",
        "      # Initialize the key\n",
        "      key = \"\"\n",
        "      # Iterate on every key index and concatenate all the chars associated with\n",
        "      # that key.\n",
        "      for key_idx in range(key_lenght):\n",
        "        # Initialize cipher chars positioned every key_lenght characters\n",
        "        cipher_chars = \"\"\n",
        "        # Get the number of chars that are associated to each key\n",
        "        chars_per_key = math.floor((len(ciphertext) - 1 - key_idx)/key_lenght)\n",
        "        # Iterate over the cipher indexes and jumping \"key_lenght\" between each index\n",
        "        for cipher_idx in range(chars_per_key):\n",
        "          char = ciphertext[(cipher_idx * key_lenght) + key_idx]\n",
        "          # If char is in frequencies, concatenate\n",
        "          if char in frequencies:\n",
        "            cipher_chars += char\n",
        "\n",
        "        # With the current key search the best char so that if this char is used\n",
        "        # as a key, the char frecuencies of the decoded text are going to be similar\n",
        "        # to the given frequencies.\n",
        "        min_distance = 1000\n",
        "        best_key_char = \"\"\n",
        "        for possible_key in frequencies:\n",
        "          # Get the decoded text for the current key using an arbitrary key\n",
        "          decoded_text = decipher_with_one_key(\n",
        "              cipher_chars,\n",
        "              possible_key,\n",
        "              alphabet,\n",
        "              inverse_alphabet\n",
        "          )\n",
        "          # Calculate distance to the given frequencies\n",
        "          distance = abs_distance(decoded_text, frequencies)\n",
        "          # If the distance is lower than the current min distance save it\n",
        "          if distance < min_distance:\n",
        "            min_distance = distance\n",
        "            best_key_char = possible_key\n",
        "        key += best_key_char\n",
        "      # Decode string with this key an get the distance with frequencies\n",
        "      decoded_text = decipher_with_one_key(ciphertext, key, alphabet, inverse_alphabet)\n",
        "      distance = abs_distance(decoded_text, frequencies)\n",
        "      if distance < min_dist:\n",
        "        min_dist = distance\n",
        "        best_key = key\n",
        "    return best_key\n",
        "    \n"
      ]
    },
    {
      "cell_type": "code",
      "execution_count": 5,
      "metadata": {
        "id": "_EZ-j_jvkyOO"
      },
      "outputs": [],
      "source": [
        "def abs_distance(string: str, frequencies: Dict[str, float]) -> float:\n",
        "    \"\"\"\n",
        "    Arguments :\n",
        "        string : An abritrary string\n",
        "        frequencies : A dictionary representing a character frequency\n",
        "    Returns :\n",
        "        distance : How distant is the string from the character frequency\n",
        "    \"\"\"\n",
        "\n",
        "    return sum([\n",
        "        abs(frequencies[c] - string.count(c) / len(string))\n",
        "        for c in frequencies\n",
        "    ])\n"
      ]
    },
    {
      "cell_type": "code",
      "execution_count": 6,
      "metadata": {
        "id": "2sCFaW4cpNHG"
      },
      "outputs": [],
      "source": [
        "text = \"It's not only writers who can benefit from this free online tool. If you're a programmer who's working on a project where blocks of text are needed, this tool can be a great way to get that. It's a good way to test your programming and that the tool being created is working well. Above are a few examples of how the random paragraph generator can be beneficial. The best way to see if this random paragraph picker will be useful for your intended purposes is to give it a try. Generate a number of paragraphs to see if they are beneficial to your current project. If you do find this paragraph tool useful, please do us a favor and let us know how you're using it. It's greatly beneficial for us to know the different ways this tool is being used so we can improve it with updates. This is especially true since there are times when the generators we create get used in completely unanticipated ways from when we initially created them. If you have the time, please send us a quick note on what you'd like to see changed or added to make it better in the future. \"*12\n",
        "key = \"ASDSADASDASDHOLA\""
      ]
    },
    {
      "cell_type": "code",
      "execution_count": 12,
      "metadata": {
        "id": "4Kp58HgKpoxY"
      },
      "outputs": [],
      "source": [
        "def cipher(text: str, key: str):\n",
        "    alphabet = {char: idx  for idx, char in enumerate(sorted(freq.keys()))}\n",
        "    inverse_alphabet = {idx: char  for idx, char in enumerate(sorted(freq.keys()))}\n",
        "    N = len(freq)\n",
        "    ciphertext = \"\"\n",
        "\n",
        "    idx = 0\n",
        "    for char in text.upper():\n",
        "        if char in alphabet:\n",
        "            ciphertext += inverse_alphabet[(alphabet[char] + alphabet[key[idx % len(key)].upper()]) % N]\n",
        "            idx += 1\n",
        "    \n",
        "    return ciphertext\n"
      ]
    },
    {
      "cell_type": "code",
      "execution_count": 8,
      "metadata": {
        "colab": {
          "base_uri": "https://localhost:8080/",
          "height": 35
        },
        "id": "2fcdducZYHXW",
        "outputId": "d6d2ada5-a3ef-4fc5-8620-2834c74befee"
      },
      "outputs": [],
      "source": [
        "# ciphertext = cipher(text, key)\n",
        "# break_rp(ciphertext, freq, abs_distance)"
      ]
    },
    {
      "cell_type": "code",
      "execution_count": 1,
      "metadata": {
        "id": "AMZ3mvrqYXco"
      },
      "outputs": [],
      "source": [
        "# for _, _, filenames in os.walk(\"./tests\"):\n",
        "#     for filename in filenames:\n",
        "#         if filename.endswith(\".txt\"):\n",
        "#             with open(os.path.join(\"./tests\", filename), \"r\") as f:\n",
        "#                 ciphertext, key = f.read().strip().split(\" \")\n",
        "#                 break_key = break_rp(ciphertext.upper(), freq, abs_distance)\n",
        "#                 if key != break_key.lower():\n",
        "#                     print(filename, key, break_key, ciphertext)\n",
        "#                     print(len(key), len(break_key), len(ciphertext)/50)\n",
        "#                     break\n",
        "                \n"
      ]
    }
  ],
  "metadata": {
    "colab": {
      "collapsed_sections": [],
      "name": "BreakRP.ipynb",
      "provenance": []
    },
    "kernelspec": {
      "display_name": "Python 3",
      "name": "python3"
    },
    "language_info": {
      "codemirror_mode": {
        "name": "ipython",
        "version": 3
      },
      "file_extension": ".py",
      "mimetype": "text/x-python",
      "name": "python",
      "nbconvert_exporter": "python",
      "pygments_lexer": "ipython3",
      "version": "3.9.7"
    }
  },
  "nbformat": 4,
  "nbformat_minor": 0
}
